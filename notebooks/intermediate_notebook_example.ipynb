{
 "cells": [
  {
   "cell_type": "markdown",
   "metadata": {},
   "source": [
    "# Voting Mechanism Simulation Examples"
   ]
  },
  {
   "cell_type": "markdown",
   "metadata": {},
   "source": [
    "Our goal here is to show basic use cases for the code, and do basic proof-of-concept on possible future extensions.  "
   ]
  },
  {
   "cell_type": "code",
   "execution_count": 20,
   "metadata": {},
   "outputs": [],
   "source": [
    "# Standard Imports\n",
    "import numpy as np\n",
    "import pandas as pd\n",
    "import os\n",
    "from random import choice\n",
    "from typing import Dict\n",
    "\n",
    "import sys\n",
    "sys.path.append('..')  # Add this line to include the directory above\n",
    "\n",
    "# Custom imports\n",
    "from custom_types import UserNFTs\n",
    "\n",
    "from mechanisms.single_choice_weighted_plurality import SingleChoiceWeightedPlurality\n",
    "from mechanisms.group_hug_mechanism import GroupHug"
   ]
  },
  {
   "cell_type": "code",
   "execution_count": 18,
   "metadata": {},
   "outputs": [
    {
     "data": {
      "text/plain": [
       "False"
      ]
     },
     "execution_count": 18,
     "metadata": {},
     "output_type": "execute_result"
    }
   ],
   "source": [
    "file_name = \"../data/nft_data_may_282024__cleaned.csv\"\n",
    "file_exists = os.path.exists(file_name)\n",
    "file_exists"
   ]
  },
  {
   "cell_type": "markdown",
   "metadata": {},
   "source": [
    "# Key Question\n",
    "\n",
    "How often would a vote that incorporates credibility-weighting by NFTs produce a different outcome than simply doing one wallet, one vote? We use the actual TE Academy NFT data as of May 28 to look at this question. "
   ]
  },
  {
   "cell_type": "markdown",
   "metadata": {},
   "source": [
    "## Inputting Sample Data as a Dictionary"
   ]
  },
  {
   "cell_type": "code",
   "execution_count": null,
   "metadata": {},
   "outputs": [],
   "source": [
    "VOTER_DATA_FILENAME = \"../data/nft_data_may_28_2024_cleaned.csv\"\n",
    "\n",
    "voter_data = pd.read_csv(VOTER_DATA_FILENAME)\n",
    "\n",
    "# We may need to drop a specific column. \n",
    "voter_data.drop(columns = ['Unnamed: 0'], \n",
    "                inplace = True)\n",
    "voter_data.set_index('ID', inplace = True)\n",
    "sample_voters = voter_data.to_dict(orient='index')"
   ]
  },
  {
   "cell_type": "code",
   "execution_count": null,
   "metadata": {},
   "outputs": [],
   "source": [
    "sample_voters"
   ]
  },
  {
   "cell_type": "code",
   "execution_count": null,
   "metadata": {},
   "outputs": [],
   "source": [
    "voters = {key: UserNFTs(sample_voters.get(key))\n",
    "          for key, _ in sample_voters.items()\n",
    "          }"
   ]
  },
  {
   "cell_type": "code",
   "execution_count": null,
   "metadata": {},
   "outputs": [],
   "source": [
    "voters"
   ]
  },
  {
   "cell_type": "code",
   "execution_count": null,
   "metadata": {},
   "outputs": [],
   "source": [
    "# Get the first voter\n",
    "first_voter = list(sample_voters.values())[0]\n",
    "\n",
    "NFT_weights = {key: 1.0 \n",
    "               for key\n",
    "               in first_voter.keys()\n",
    "               }"
   ]
  },
  {
   "cell_type": "code",
   "execution_count": null,
   "metadata": {},
   "outputs": [],
   "source": [
    "def calc_voter_weights_from_NFT_weight(voters: Dict,\n",
    "                                       nft_weights: Dict) -> Dict:\n",
    "    new_dict = {}\n",
    "    for voter in voters.keys():\n",
    "        new_dict[voter] = {}\n",
    "        new_dict[voter][\"weight\"] = 0\n",
    "        for nft_name, nft_val in nft_weights.items():\n",
    "            if voters.get(voter).get(nft_name):\n",
    "                new_dict[voter][\"weight\"] += nft_val\n",
    "\n",
    "    return new_dict"
   ]
  },
  {
   "cell_type": "code",
   "execution_count": null,
   "metadata": {},
   "outputs": [],
   "source": [
    "voter_weights = calc_voter_weights_from_NFT_weight(voters,\n",
    "                                                   NFT_weights)"
   ]
  },
  {
   "cell_type": "code",
   "execution_count": null,
   "metadata": {},
   "outputs": [],
   "source": [
    "voter_weights"
   ]
  },
  {
   "cell_type": "code",
   "execution_count": null,
   "metadata": {},
   "outputs": [],
   "source": [
    "uniform_weights = {key: {\"weight\": 1.0} for key in sample_voters.keys()}"
   ]
  },
  {
   "cell_type": "code",
   "execution_count": null,
   "metadata": {},
   "outputs": [],
   "source": [
    "uniform_weights"
   ]
  },
  {
   "cell_type": "code",
   "execution_count": 14,
   "metadata": {},
   "outputs": [],
   "source": [
    "SCWPCalculator = SingleChoiceWeightedPlurality()\n",
    "\n",
    "NUM_EXPERIMENTS = 100_000\n",
    "\n",
    "# Create an empty DataFrame to store simulation results\n",
    "results_list = [] \n",
    "\n",
    "for k in range(NUM_EXPERIMENTS):\n",
    "    sample_choices = {\n",
    "                   key: choice([\"A\",\"B\",\"C\",\"D\"])\n",
    "                   for key in sample_voters.keys()\n",
    "                 }\n",
    "    weighted_winner, weighted_results  = SCWPCalculator.calculate(voter_weights,\n",
    "                            sample_choices)\n",
    "    uniform_winner, uniform_results = SCWPCalculator.calculate(uniform_weights,\n",
    "                            sample_choices)\n",
    "    # Create an empty DataFrame to store simulation results\n",
    "    results_list.append({'Experiment': k,\n",
    "                        'weighted_winner': weighted_winner, \n",
    "                        'weighted_candidate_scores': weighted_results,\n",
    "                        'uniform_winner': uniform_winner,\n",
    "                        'uniform_candidate_scores': uniform_results}\n",
    "                        )\n",
    "\n",
    "\n",
    "results_df = pd.DataFrame(results_list)\n",
    "\n",
    "#TODO: Refactor for speed if needed.  \n",
    "\n",
    "    "
   ]
  },
  {
   "cell_type": "code",
   "execution_count": 15,
   "metadata": {},
   "outputs": [
    {
     "data": {
      "text/html": [
       "<div>\n",
       "<style scoped>\n",
       "    .dataframe tbody tr th:only-of-type {\n",
       "        vertical-align: middle;\n",
       "    }\n",
       "\n",
       "    .dataframe tbody tr th {\n",
       "        vertical-align: top;\n",
       "    }\n",
       "\n",
       "    .dataframe thead th {\n",
       "        text-align: right;\n",
       "    }\n",
       "</style>\n",
       "<table border=\"1\" class=\"dataframe\">\n",
       "  <thead>\n",
       "    <tr style=\"text-align: right;\">\n",
       "      <th></th>\n",
       "      <th>Experiment</th>\n",
       "      <th>weighted_winner</th>\n",
       "      <th>weighted_candidate_scores</th>\n",
       "      <th>uniform_winner</th>\n",
       "      <th>uniform_candidate_scores</th>\n",
       "    </tr>\n",
       "  </thead>\n",
       "  <tbody>\n",
       "    <tr>\n",
       "      <th>0</th>\n",
       "      <td>0</td>\n",
       "      <td>D</td>\n",
       "      <td>{'D': 230.0, 'B': 211.0, 'C': 217.0, 'A': 203.0}</td>\n",
       "      <td>A</td>\n",
       "      <td>{'D': 86.0, 'B': 88.0, 'C': 84.0, 'A': 89.0}</td>\n",
       "    </tr>\n",
       "    <tr>\n",
       "      <th>1</th>\n",
       "      <td>1</td>\n",
       "      <td>A</td>\n",
       "      <td>{'A': 271.0, 'D': 155.0, 'C': 241.0, 'B': 194.0}</td>\n",
       "      <td>A</td>\n",
       "      <td>{'A': 99.0, 'D': 77.0, 'C': 95.0, 'B': 76.0}</td>\n",
       "    </tr>\n",
       "    <tr>\n",
       "      <th>2</th>\n",
       "      <td>2</td>\n",
       "      <td>B</td>\n",
       "      <td>{'B': 240.0, 'D': 240.0, 'A': 225.0, 'C': 156.0}</td>\n",
       "      <td>B</td>\n",
       "      <td>{'B': 99.0, 'D': 94.0, 'A': 87.0, 'C': 67.0}</td>\n",
       "    </tr>\n",
       "    <tr>\n",
       "      <th>3</th>\n",
       "      <td>3</td>\n",
       "      <td>D</td>\n",
       "      <td>{'A': 157.0, 'B': 210.0, 'D': 266.0, 'C': 228.0}</td>\n",
       "      <td>D</td>\n",
       "      <td>{'A': 68.0, 'B': 86.0, 'D': 106.0, 'C': 87.0}</td>\n",
       "    </tr>\n",
       "    <tr>\n",
       "      <th>4</th>\n",
       "      <td>4</td>\n",
       "      <td>A</td>\n",
       "      <td>{'A': 260.0, 'C': 204.0, 'D': 179.0, 'B': 218.0}</td>\n",
       "      <td>A</td>\n",
       "      <td>{'A': 114.0, 'C': 80.0, 'D': 71.0, 'B': 82.0}</td>\n",
       "    </tr>\n",
       "    <tr>\n",
       "      <th>...</th>\n",
       "      <td>...</td>\n",
       "      <td>...</td>\n",
       "      <td>...</td>\n",
       "      <td>...</td>\n",
       "      <td>...</td>\n",
       "    </tr>\n",
       "    <tr>\n",
       "      <th>99995</th>\n",
       "      <td>99995</td>\n",
       "      <td>A</td>\n",
       "      <td>{'B': 209.0, 'C': 152.0, 'D': 233.0, 'A': 267.0}</td>\n",
       "      <td>A</td>\n",
       "      <td>{'B': 85.0, 'C': 75.0, 'D': 91.0, 'A': 96.0}</td>\n",
       "    </tr>\n",
       "    <tr>\n",
       "      <th>99996</th>\n",
       "      <td>99996</td>\n",
       "      <td>B</td>\n",
       "      <td>{'B': 248.0, 'D': 152.0, 'A': 231.0, 'C': 230.0}</td>\n",
       "      <td>B</td>\n",
       "      <td>{'B': 95.0, 'D': 66.0, 'A': 95.0, 'C': 91.0}</td>\n",
       "    </tr>\n",
       "    <tr>\n",
       "      <th>99997</th>\n",
       "      <td>99997</td>\n",
       "      <td>A</td>\n",
       "      <td>{'D': 240.0, 'B': 199.0, 'A': 267.0, 'C': 155.0}</td>\n",
       "      <td>A</td>\n",
       "      <td>{'D': 85.0, 'B': 79.0, 'A': 102.0, 'C': 81.0}</td>\n",
       "    </tr>\n",
       "    <tr>\n",
       "      <th>99998</th>\n",
       "      <td>99998</td>\n",
       "      <td>A</td>\n",
       "      <td>{'B': 225.0, 'A': 263.0, 'D': 170.0, 'C': 203.0}</td>\n",
       "      <td>A</td>\n",
       "      <td>{'B': 83.0, 'A': 107.0, 'D': 71.0, 'C': 86.0}</td>\n",
       "    </tr>\n",
       "    <tr>\n",
       "      <th>99999</th>\n",
       "      <td>99999</td>\n",
       "      <td>B</td>\n",
       "      <td>{'A': 232.0, 'B': 246.0, 'D': 243.0, 'C': 140.0}</td>\n",
       "      <td>D</td>\n",
       "      <td>{'A': 87.0, 'B': 96.0, 'D': 98.0, 'C': 66.0}</td>\n",
       "    </tr>\n",
       "  </tbody>\n",
       "</table>\n",
       "<p>100000 rows × 5 columns</p>\n",
       "</div>"
      ],
      "text/plain": [
       "       Experiment weighted_winner  \\\n",
       "0               0               D   \n",
       "1               1               A   \n",
       "2               2               B   \n",
       "3               3               D   \n",
       "4               4               A   \n",
       "...           ...             ...   \n",
       "99995       99995               A   \n",
       "99996       99996               B   \n",
       "99997       99997               A   \n",
       "99998       99998               A   \n",
       "99999       99999               B   \n",
       "\n",
       "                              weighted_candidate_scores uniform_winner  \\\n",
       "0      {'D': 230.0, 'B': 211.0, 'C': 217.0, 'A': 203.0}              A   \n",
       "1      {'A': 271.0, 'D': 155.0, 'C': 241.0, 'B': 194.0}              A   \n",
       "2      {'B': 240.0, 'D': 240.0, 'A': 225.0, 'C': 156.0}              B   \n",
       "3      {'A': 157.0, 'B': 210.0, 'D': 266.0, 'C': 228.0}              D   \n",
       "4      {'A': 260.0, 'C': 204.0, 'D': 179.0, 'B': 218.0}              A   \n",
       "...                                                 ...            ...   \n",
       "99995  {'B': 209.0, 'C': 152.0, 'D': 233.0, 'A': 267.0}              A   \n",
       "99996  {'B': 248.0, 'D': 152.0, 'A': 231.0, 'C': 230.0}              B   \n",
       "99997  {'D': 240.0, 'B': 199.0, 'A': 267.0, 'C': 155.0}              A   \n",
       "99998  {'B': 225.0, 'A': 263.0, 'D': 170.0, 'C': 203.0}              A   \n",
       "99999  {'A': 232.0, 'B': 246.0, 'D': 243.0, 'C': 140.0}              D   \n",
       "\n",
       "                            uniform_candidate_scores  \n",
       "0       {'D': 86.0, 'B': 88.0, 'C': 84.0, 'A': 89.0}  \n",
       "1       {'A': 99.0, 'D': 77.0, 'C': 95.0, 'B': 76.0}  \n",
       "2       {'B': 99.0, 'D': 94.0, 'A': 87.0, 'C': 67.0}  \n",
       "3      {'A': 68.0, 'B': 86.0, 'D': 106.0, 'C': 87.0}  \n",
       "4      {'A': 114.0, 'C': 80.0, 'D': 71.0, 'B': 82.0}  \n",
       "...                                              ...  \n",
       "99995   {'B': 85.0, 'C': 75.0, 'D': 91.0, 'A': 96.0}  \n",
       "99996   {'B': 95.0, 'D': 66.0, 'A': 95.0, 'C': 91.0}  \n",
       "99997  {'D': 85.0, 'B': 79.0, 'A': 102.0, 'C': 81.0}  \n",
       "99998  {'B': 83.0, 'A': 107.0, 'D': 71.0, 'C': 86.0}  \n",
       "99999   {'A': 87.0, 'B': 96.0, 'D': 98.0, 'C': 66.0}  \n",
       "\n",
       "[100000 rows x 5 columns]"
      ]
     },
     "execution_count": 15,
     "metadata": {},
     "output_type": "execute_result"
    }
   ],
   "source": [
    "results_df"
   ]
  },
  {
   "cell_type": "code",
   "execution_count": 16,
   "metadata": {},
   "outputs": [
    {
     "data": {
      "text/plain": [
       "0.67135"
      ]
     },
     "execution_count": 16,
     "metadata": {},
     "output_type": "execute_result"
    }
   ],
   "source": [
    "(results_df['weighted_winner'] == results_df['uniform_winner']).mean()"
   ]
  },
  {
   "cell_type": "code",
   "execution_count": 17,
   "metadata": {},
   "outputs": [],
   "source": [
    "import mechanisms.group_hug_mechanism as GH"
   ]
  },
  {
   "cell_type": "code",
   "execution_count": null,
   "metadata": {},
   "outputs": [],
   "source": []
  }
 ],
 "metadata": {
  "kernelspec": {
   "display_name": "Python 3",
   "language": "python",
   "name": "python3"
  },
  "language_info": {
   "codemirror_mode": {
    "name": "ipython",
    "version": 3
   },
   "file_extension": ".py",
   "mimetype": "text/x-python",
   "name": "python",
   "nbconvert_exporter": "python",
   "pygments_lexer": "ipython3",
   "version": "3.11.6"
  }
 },
 "nbformat": 4,
 "nbformat_minor": 2
}
