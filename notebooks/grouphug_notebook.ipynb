{
 "cells": [
  {
   "cell_type": "markdown",
   "metadata": {},
   "source": [
    "# Test Notebook for GroupHug \n",
    "\n",
    "This is an adaptation of work by @joanbp-dk from https://github.com/joanbp-dk/Repbased_voting_playground. "
   ]
  },
  {
   "cell_type": "code",
   "execution_count": null,
   "metadata": {},
   "outputs": [],
   "source": [
    "import sys\n",
    "sys.path.append(\"..\")"
   ]
  },
  {
   "cell_type": "markdown",
   "metadata": {},
   "source": [
    "# Create dictionaries for default NFT importances. "
   ]
  },
  {
   "cell_type": "code",
   "execution_count": null,
   "metadata": {},
   "outputs": [],
   "source": [
    "# Change these and pass as argument in the GH constructor if you want to play with the weights\n",
    "\n",
    "CUSTOM_EXPERTS_GROUP_WEIGHT = 1\n",
    "CUSTOM_INTELLECTUALS_GROUP_WEIGHT = 1\n",
    "CUSTOM_PARTICIPANTS_GROUP_WEIGHT = 1\n",
    "CUSTOM_COMMUNITY_GROUP_WEIGHT = 1\n",
    "\n",
    "CUSTOM_NFT_WEIGHTS = {\n",
    "    \"FUND_MOD_1\": 3.0,\n",
    "    \"FUND_MOD_2\": 3.0,\n",
    "    \"FUND_MOD_3\": 3.0,\n",
    "    \"FUND_MOD_4\": 3.0,\n",
    "    \"FUND_MOD_5\": 3.0,\n",
    "    \"BARCAMP_PARIS_23\": 2.0,\n",
    "    \"NFTREP_V1\": 1.0,\n",
    "    \"STUDY_GROUP_HOST_C2_22_23\": 1.0,\n",
    "    \"STUDY_GROUP_HOST_360_22\": 1.0,\n",
    "    \"STUDY_GROUP_HOST_FUND_22_23\": 1.0,\n",
    "    \"LIVE_TRACK_1\": 1.0,\n",
    "    \"LIVE_TRACK_2\": 1.0,\n",
    "    \"LIVE_TRACK_3\": 1.0,\n",
    "    \"LIVE_TRACK_4\": 1.0,\n",
    "    \"LIVE_TRACK_5\": 3.0,\n",
    "    \"LIVE_TRACK_6\": 3.0,\n",
    "    \"LIVE_TRACK_7\": 3.0,\n",
    "    \"LIVE_TRACK_8\": 3.0\n",
    "}\n"
   ]
  },
  {
   "cell_type": "markdown",
   "metadata": {},
   "source": [
    "Create voter information. "
   ]
  },
  {
   "cell_type": "code",
   "execution_count": null,
   "metadata": {},
   "outputs": [],
   "source": [
    "voters_1 = {\n",
    "    \"V1\": {\"FELLOWSHIP_COMM\": True},\n",
    "    \"V2\": {\"FUND_MOD_1\": True},\n",
    "    \"V3\": {\"FUND_MOD_1\": True,\n",
    "           \"FUND_MOD_2\": True,\n",
    "           \"LIVE_TRACK_1\": True},\n",
    "    \"V4\": {\"LIVE_TRACK_6\": True,\n",
    "           \"LIVE_TRACK_2\": True},\n",
    "    \"V5\": {}\n",
    "}"
   ]
  },
  {
   "cell_type": "code",
   "execution_count": null,
   "metadata": {},
   "outputs": [],
   "source": [
    "voter_choices_1 = {\n",
    "    \n",
    "    \"V1\": \"Candidate_A\",\n",
    "    \"V2\": \"Candidate_A\",\n",
    "    \"V3\": \"Candidate_B\",\n",
    "    \"V4\": \"Candidate_A\",\n",
    "    \"V5\": \"Candidate_A\"\n",
    "}"
   ]
  },
  {
   "cell_type": "code",
   "execution_count": null,
   "metadata": {},
   "outputs": [],
   "source": [
    "from mechanisms.group_hug_mechanism import GroupHug"
   ]
  },
  {
   "cell_type": "code",
   "execution_count": null,
   "metadata": {},
   "outputs": [],
   "source": [
    "GH = GroupHug()"
   ]
  },
  {
   "cell_type": "code",
   "execution_count": null,
   "metadata": {},
   "outputs": [],
   "source": [
    "winner, results = GH.calculate(voters = voters_1,\n",
    "             voter_choices = voter_choices_1)"
   ]
  },
  {
   "cell_type": "code",
   "execution_count": null,
   "metadata": {},
   "outputs": [],
   "source": [
    "winner"
   ]
  },
  {
   "cell_type": "code",
   "execution_count": null,
   "metadata": {},
   "outputs": [],
   "source": [
    "results"
   ]
  },
  {
   "cell_type": "code",
   "execution_count": null,
   "metadata": {},
   "outputs": [],
   "source": []
  }
 ],
 "metadata": {
  "kernelspec": {
   "display_name": "Python 3",
   "language": "python",
   "name": "python3"
  },
  "language_info": {
   "codemirror_mode": {
    "name": "ipython",
    "version": 3
   },
   "file_extension": ".py",
   "mimetype": "text/x-python",
   "name": "python",
   "nbconvert_exporter": "python",
   "pygments_lexer": "ipython3",
   "version": "3.11.6"
  }
 },
 "nbformat": 4,
 "nbformat_minor": 2
}
