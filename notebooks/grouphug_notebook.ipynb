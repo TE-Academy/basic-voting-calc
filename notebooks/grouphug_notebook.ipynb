{
 "cells": [
  {
   "cell_type": "markdown",
   "metadata": {},
   "source": [
    "# Test Notebook for GroupHug \n",
    "\n",
    "This is based on work by @joandk from the original repository. "
   ]
  },
  {
   "cell_type": "code",
   "execution_count": 1,
   "metadata": {},
   "outputs": [],
   "source": [
    "import sys\n",
    "sys.path.append(\"..\")"
   ]
  },
  {
   "cell_type": "markdown",
   "metadata": {},
   "source": [
    "# Create dictionaries for default NFT importances. "
   ]
  },
  {
   "cell_type": "code",
   "execution_count": 2,
   "metadata": {},
   "outputs": [],
   "source": [
    "\n",
    "DEFAULT_NFT_SCORES = {\n",
    "    \"FUND_MOD1\": 3.0,\n",
    "    \"FUND_MOD2\": 3.0,\n",
    "    \"FUND_MOD3\": 3.0,\n",
    "    \"FUND_MOD4\": 3.0,\n",
    "    \"FUND_MOD5\": 3.0,\n",
    "    \"BARCAMP_PARIS_23\": 2.0,\n",
    "    \"NFTREP_V1\": 1.0,\n",
    "    \"STUDY_GROUP_HOST_C2_22_23\": 1.0,\n",
    "    \"STUDY_GROUP_HOST_360_22\": 1.0,\n",
    "    \"STUDY_GROUP_HOST_FUND_22_23\": 1.0,\n",
    "    \"LIVE_TRACK_1\": 1.0,\n",
    "    \"LIVE_TRACK_2\": 1.0,\n",
    "    \"LIVE_TRACK_3\": 1.0,\n",
    "    \"LIVE_TRACK_4\": 1.0,\n",
    "    \"LIVE_TRACK_5\": 3.0,\n",
    "    \"LIVE_TRACK_6\": 3.0,\n",
    "    \"LIVE_TRACK_7\": 3.0,\n",
    "    \"LIVE_TRACK_8\": 3.0\n",
    "}\n"
   ]
  },
  {
   "cell_type": "markdown",
   "metadata": {},
   "source": [
    "Create voter information. "
   ]
  },
  {
   "cell_type": "code",
   "execution_count": 3,
   "metadata": {},
   "outputs": [],
   "source": [
    "\n",
    "voters_1 = {\n",
    "    \"V1\": {},\n",
    "    \"V2\": {\"FUND_MOD1\": True, \n",
    "           \"FUND_MOD2\": True, \n",
    "           \"FUND_MOD3\": True, \n",
    "           \"FUND_MOD4\": True, \n",
    "           \"FUND_MOD5\": True},\n",
    "    \"V3\": {},\n",
    "        \"V4\": {\"FUND_MOD1\": True},\n",
    "    \"V5\": {\"FUND_MOD1\": True, \n",
    "           \"FUND_MOD2\": True},\n",
    "    \"V6\": {\"BARCAMP_PARIS_23\": True},\n",
    "    \"V7\": {\"STUDY_GROUP_HOST_FUND_22_23\": True, \n",
    "           \"LIVE_TRACK_4\": True},\n",
    "    \"V8\": {\"STUDY_GROUP_HOST_FUND_22_23\": True},\n",
    "    \"V9\": {\"STUDY_GROUP_HOST_FUND_22_23\": True, \n",
    "           \"LIVE_TRACK_1\": True, \n",
    "           \"LIVE_TRACK_2\": True},\n",
    "    \"V10\": {\"LIVE_TRACK_4\": True, \n",
    "            \"LIVE_TRACK_5\": True},\n",
    "}\n",
    "\n",
    "\n"
   ]
  },
  {
   "cell_type": "markdown",
   "metadata": {},
   "source": [
    "Input information about voters. "
   ]
  },
  {
   "cell_type": "code",
   "execution_count": 4,
   "metadata": {},
   "outputs": [
    {
     "data": {
      "text/plain": [
       "{'V1': {},\n",
       " 'V2': {'FUND_MOD1': True,\n",
       "  'FUND_MOD2': True,\n",
       "  'FUND_MOD3': True,\n",
       "  'FUND_MOD4': True,\n",
       "  'FUND_MOD5': True},\n",
       " 'V3': {},\n",
       " 'V4': {'FUND_MOD1': True},\n",
       " 'V5': {'FUND_MOD1': True, 'FUND_MOD2': True},\n",
       " 'V6': {'BARCAMP_PARIS_23': True},\n",
       " 'V7': {'STUDY_GROUP_HOST_FUND_22_23': True, 'LIVE_TRACK_4': True},\n",
       " 'V8': {'STUDY_GROUP_HOST_FUND_22_23': True},\n",
       " 'V9': {'STUDY_GROUP_HOST_FUND_22_23': True,\n",
       "  'LIVE_TRACK_1': True,\n",
       "  'LIVE_TRACK_2': True},\n",
       " 'V10': {'LIVE_TRACK_4': True, 'LIVE_TRACK_5': True}}"
      ]
     },
     "execution_count": 4,
     "metadata": {},
     "output_type": "execute_result"
    }
   ],
   "source": [
    "voters_1"
   ]
  },
  {
   "cell_type": "code",
   "execution_count": 5,
   "metadata": {},
   "outputs": [],
   "source": [
    "voter_choices_1 = {\n",
    "    \n",
    "    \"V1\": \"C4\",\n",
    "    \"V2\": \"C2\",\n",
    "    \"V3\": \"C2\",\n",
    "    \"V4\": \"C3\",\n",
    "    \"V5\": \"C4\",\n",
    "    \"V6\": \"C3\",\n",
    "    \"V7\": \"C1\",\n",
    "    \"V8\": \"C4\",\n",
    "    \"V9\": \"C2\",\n",
    "    \"V10\": \"C4\",\n",
    "}"
   ]
  },
  {
   "cell_type": "code",
   "execution_count": 6,
   "metadata": {},
   "outputs": [
    {
     "ename": "ModuleNotFoundError",
     "evalue": "No module named 'mechanisms'",
     "output_type": "error",
     "traceback": [
      "\u001b[1;31m---------------------------------------------------------------------------\u001b[0m",
      "\u001b[1;31mModuleNotFoundError\u001b[0m                       Traceback (most recent call last)",
      "Cell \u001b[1;32mIn[6], line 1\u001b[0m\n\u001b[1;32m----> 1\u001b[0m \u001b[38;5;28;01mfrom\u001b[39;00m \u001b[38;5;21;01mmechanisms\u001b[39;00m\u001b[38;5;21;01m.\u001b[39;00m\u001b[38;5;21;01mgroup_hug_mechanism\u001b[39;00m \u001b[38;5;28;01mimport\u001b[39;00m GroupHug\n",
      "\u001b[1;31mModuleNotFoundError\u001b[0m: No module named 'mechanisms'"
     ]
    }
   ],
   "source": [
    "from mechanisms.group_hug_mechanism import GroupHug"
   ]
  },
  {
   "cell_type": "code",
   "execution_count": null,
   "metadata": {},
   "outputs": [],
   "source": [
    "GH = GroupHug()"
   ]
  },
  {
   "cell_type": "code",
   "execution_count": null,
   "metadata": {},
   "outputs": [],
   "source": [
    "winner, results = GH.calculate(voters = voters_1,\n",
    "             voter_choices = voter_choices_1)"
   ]
  },
  {
   "cell_type": "code",
   "execution_count": null,
   "metadata": {},
   "outputs": [],
   "source": [
    "winner"
   ]
  },
  {
   "cell_type": "code",
   "execution_count": null,
   "metadata": {},
   "outputs": [],
   "source": [
    "results"
   ]
  },
  {
   "cell_type": "code",
   "execution_count": null,
   "metadata": {},
   "outputs": [],
   "source": []
  }
 ],
 "metadata": {
  "kernelspec": {
   "display_name": "Python 3",
   "language": "python",
   "name": "python3"
  },
  "language_info": {
   "codemirror_mode": {
    "name": "ipython",
    "version": 3
   },
   "file_extension": ".py",
   "mimetype": "text/x-python",
   "name": "python",
   "nbconvert_exporter": "python",
   "pygments_lexer": "ipython3",
   "version": "3.11.6"
  }
 },
 "nbformat": 4,
 "nbformat_minor": 2
}
