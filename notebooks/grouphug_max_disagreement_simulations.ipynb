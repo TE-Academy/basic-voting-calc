{
 "cells": [
  {
   "cell_type": "markdown",
   "metadata": {},
   "source": [
    "# Simulations to test GroupHug vs. 'one person, one vote' in case of maximum disagreement between voter groups."
   ]
  },
  {
   "cell_type": "markdown",
   "metadata": {},
   "source": [
    "The perform_comparison function below configures a GroupHug mechanism with a specified number of four different voter types - experts, intellectuals, participants and uneducated community members. In this simulation, each group is in favor of a different candidate. The experts prefer the expert candidate, the intellectuals prefer the intellectual candidate, ...and so on.\n",
    "\n",
    "Furthermore, a SingleChoiceWeightedPlurality mechanism is set up with the same total number of voters - and uniform weights.\n",
    "\n",
    "Each mechanism calculates a set of scores and announces a winner."
   ]
  },
  {
   "cell_type": "code",
   "execution_count": 1,
   "metadata": {},
   "outputs": [],
   "source": [
    "import sys\n",
    "sys.path.append(\"..\")\n",
    "\n",
    "from mechanisms.group_hug_mechanism import GroupHug\n",
    "from mechanisms.single_choice_weighted_plurality import SingleChoiceWeightedPlurality\n",
    "\n",
    "def str_dict(d):\n",
    "    return str(dict(sorted(d.items())))\n",
    "\n",
    "def perform_comparison(gh, ecount, icount, pcount, ucount):\n",
    "\n",
    "    expert_type = {\"FELLOWSHIP_COMM\": True}\n",
    "    intellectual_type = {\"FUND_MOD_1\": True}\n",
    "    participant_type = {\"LIVE_TRACK_1\": True}\n",
    "    uneducated_type = {}\n",
    "\n",
    "    voters = {}\n",
    "    voters_choices = {}\n",
    "\n",
    "    for i in range(ecount):\n",
    "        voters[\"e\" + str(i)] = expert_type\n",
    "        voters_choices[\"e\" + str(i)] = \"Expert candidate\"\n",
    "\n",
    "    for i in range(icount):\n",
    "        voters[\"i\" + str(i)] = intellectual_type\n",
    "        voters_choices[\"i\" + str(i)] = \"Intellectual candidate\"\n",
    "\n",
    "    for i in range(pcount):\n",
    "        voters[\"p\" + str(i)] = participant_type\n",
    "        voters_choices[\"p\" + str(i)] = \"Participant candidate\"\n",
    "        \n",
    "    for i in range(ucount):\n",
    "        voters[\"u\" + str(i)] = uneducated_type\n",
    "        voters_choices[\"u\" + str(i)] = \"Uneducated candidate\"\n",
    "\n",
    "    uniform_voters = {id: {\"weight\": 1.0} for id in voters.keys()}\n",
    "\n",
    "    print(\"VOTERS: \" + str(ecount) + \" experts, \" + str(icount) + \" intellectuals, \" + str(pcount) + \" participants, \" + str(ucount) + \" uneducated.\")\n",
    "\n",
    "    w_gh, r_gh = gh.calculate(voters, voters_choices)\n",
    "\n",
    "    print(\"\\nGroupHug Winner: \" + str(w_gh))\n",
    "    print(\"GroupHug Scores: \" + str_dict(r_gh) + \"\\n\")\n",
    "\n",
    "    SCWP = SingleChoiceWeightedPlurality()\n",
    "    w_scwp, r_scwp = SCWP.calculate(uniform_voters, voters_choices)\n",
    "\n",
    "    print(\"Popularity contest winner: \" + str(w_scwp))\n",
    "    print(\"Popularity contest scores: \" + str_dict(r_scwp))"
   ]
  },
  {
   "cell_type": "markdown",
   "metadata": {},
   "source": [
    "Let's first use a default GroupHug mechanism (all voter groups have equal weight, default NFT weights are used.)"
   ]
  },
  {
   "cell_type": "code",
   "execution_count": 2,
   "metadata": {},
   "outputs": [],
   "source": [
    "GH_def = GroupHug()"
   ]
  },
  {
   "cell_type": "markdown",
   "metadata": {},
   "source": [
    "In our first example, below, only experts and uneducated community members participate (no intellectuals or participants.)\n",
    "\n",
    "We see that a small expert group override a very large group of uneducated voters because the default GroupHug caps the influence of any of the N participating voter groups at 1/N, and the experts also influence the community vote:"
   ]
  },
  {
   "cell_type": "code",
   "execution_count": 3,
   "metadata": {},
   "outputs": [
    {
     "name": "stdout",
     "output_type": "stream",
     "text": [
      "VOTERS: 1 experts, 0 intellectuals, 0 participants, 500 uneducated.\n",
      "\n",
      "Experts: {'Expert candidate': 100.0, 'Uneducated candidate': 0.0}\n",
      "Intellectuals: {'Expert candidate': 0, 'Uneducated candidate': 0}\n",
      "Participants: {'Expert candidate': 0, 'Uneducated candidate': 0}\n",
      "Community: {'Expert candidate': 0.2, 'Uneducated candidate': 99.8}\n",
      "\n",
      "GroupHug Winner: Expert candidate\n",
      "GroupHug Scores: {'Expert candidate': 50.1, 'Uneducated candidate': 49.9}\n",
      "\n",
      "Popularity contest winner: Uneducated candidate\n",
      "Popularity contest scores: {'Expert candidate': 1.0, 'Uneducated candidate': 500.0}\n"
     ]
    }
   ],
   "source": [
    "perform_comparison(GH_def, 1, 0, 0, 500)"
   ]
  },
  {
   "cell_type": "markdown",
   "metadata": {},
   "source": [
    "If, at this point, a single 'intellectual' enters a vote (disagreeing with both experts and uneducated community members), the expert and the intellectual have equal weight. \n",
    "\n",
    "The tie will be resolved by the experts, according to the design."
   ]
  },
  {
   "cell_type": "code",
   "execution_count": 4,
   "metadata": {},
   "outputs": [
    {
     "name": "stdout",
     "output_type": "stream",
     "text": [
      "VOTERS: 1 experts, 1 intellectuals, 0 participants, 100 uneducated.\n",
      "\n",
      "Experts: {'Expert candidate': 100.0, 'Intellectual candidate': 0.0, 'Uneducated candidate': 0.0}\n",
      "Intellectuals: {'Expert candidate': 0.0, 'Intellectual candidate': 100.0, 'Uneducated candidate': 0.0}\n",
      "Participants: {'Expert candidate': 0, 'Intellectual candidate': 0, 'Uneducated candidate': 0}\n",
      "Community: {'Expert candidate': 1.0, 'Intellectual candidate': 1.0, 'Uneducated candidate': 98.0}\n",
      "Tie. We'll ask the experts to resolve it.\n",
      "\n",
      "GroupHug Winner: Expert candidate\n",
      "GroupHug Scores: {'Expert candidate': 33.7, 'Intellectual candidate': 33.7, 'Uneducated candidate': 32.7}\n",
      "\n",
      "Popularity contest winner: Uneducated candidate\n",
      "Popularity contest scores: {'Expert candidate': 1.0, 'Intellectual candidate': 1.0, 'Uneducated candidate': 100.0}\n"
     ]
    }
   ],
   "source": [
    "perform_comparison(GH_def, 1, 1, 0, 100)"
   ]
  },
  {
   "cell_type": "markdown",
   "metadata": {},
   "source": [
    "Note that in the default GroupHug mechanism, 1 expert has the same power as 1 student. \n",
    "\n",
    "But we can change this by using custom group weights..."
   ]
  },
  {
   "cell_type": "code",
   "execution_count": 5,
   "metadata": {},
   "outputs": [],
   "source": [
    "GH_custom_a = GroupHug(experts_group_weight = 30,\n",
    "                     intellectuals_group_weight = 25,\n",
    "                     participants_group_weight = 25,\n",
    "                     community_group_weight = 20)\n"
   ]
  },
  {
   "cell_type": "markdown",
   "metadata": {},
   "source": [
    "With the custom GroupHug mechanism defined above, 1 expert outweights 1 intellectual:"
   ]
  },
  {
   "cell_type": "code",
   "execution_count": 6,
   "metadata": {},
   "outputs": [
    {
     "name": "stdout",
     "output_type": "stream",
     "text": [
      "VOTERS: 1 experts, 1 intellectuals, 0 participants, 100 uneducated.\n",
      "\n",
      "Experts: {'Expert candidate': 100.0, 'Intellectual candidate': 0.0, 'Uneducated candidate': 0.0}\n",
      "Intellectuals: {'Expert candidate': 0.0, 'Intellectual candidate': 100.0, 'Uneducated candidate': 0.0}\n",
      "Participants: {'Expert candidate': 0, 'Intellectual candidate': 0, 'Uneducated candidate': 0}\n",
      "Community: {'Expert candidate': 1.0, 'Intellectual candidate': 1.0, 'Uneducated candidate': 98.0}\n",
      "\n",
      "GroupHug Winner: Expert candidate\n",
      "GroupHug Scores: {'Expert candidate': 40.3, 'Intellectual candidate': 33.6, 'Uneducated candidate': 26.1}\n",
      "\n",
      "Popularity contest winner: Uneducated candidate\n",
      "Popularity contest scores: {'Expert candidate': 1.0, 'Intellectual candidate': 1.0, 'Uneducated candidate': 100.0}\n"
     ]
    }
   ],
   "source": [
    "perform_comparison(GH_custom_a, 1, 1, 0, 100)"
   ]
  },
  {
   "cell_type": "markdown",
   "metadata": {},
   "source": [
    "In fact, 3 experts outweight 30 students and 100 uneducated:"
   ]
  },
  {
   "cell_type": "code",
   "execution_count": 7,
   "metadata": {},
   "outputs": [
    {
     "name": "stdout",
     "output_type": "stream",
     "text": [
      "VOTERS: 3 experts, 30 intellectuals, 0 participants, 100 uneducated.\n",
      "\n",
      "Experts: {'Expert candidate': 100.0, 'Intellectual candidate': 0.0, 'Uneducated candidate': 0.0}\n",
      "Intellectuals: {'Expert candidate': 0.0, 'Intellectual candidate': 100.0, 'Uneducated candidate': 0.0}\n",
      "Participants: {'Expert candidate': 0, 'Intellectual candidate': 0, 'Uneducated candidate': 0}\n",
      "Community: {'Expert candidate': 2.3, 'Intellectual candidate': 22.6, 'Uneducated candidate': 75.2}\n",
      "\n",
      "GroupHug Winner: Expert candidate\n",
      "GroupHug Scores: {'Expert candidate': 40.6, 'Intellectual candidate': 39.3, 'Uneducated candidate': 20.0}\n",
      "\n",
      "Popularity contest winner: Uneducated candidate\n",
      "Popularity contest scores: {'Expert candidate': 3.0, 'Intellectual candidate': 30.0, 'Uneducated candidate': 100.0}\n"
     ]
    }
   ],
   "source": [
    "perform_comparison(GH_custom_a, 3, 30, 0, 100)"
   ]
  },
  {
   "cell_type": "markdown",
   "metadata": {},
   "source": [
    "But there is still a limit to the experts' power. \n",
    "\n",
    "For example, 50 students (intellectuals) outweigh 3 experts:"
   ]
  },
  {
   "cell_type": "code",
   "execution_count": 8,
   "metadata": {},
   "outputs": [
    {
     "name": "stdout",
     "output_type": "stream",
     "text": [
      "VOTERS: 3 experts, 50 intellectuals, 0 participants, 100 uneducated.\n",
      "\n",
      "Experts: {'Expert candidate': 100.0, 'Intellectual candidate': 0.0, 'Uneducated candidate': 0.0}\n",
      "Intellectuals: {'Expert candidate': 0.0, 'Intellectual candidate': 100.0, 'Uneducated candidate': 0.0}\n",
      "Participants: {'Expert candidate': 0, 'Intellectual candidate': 0, 'Uneducated candidate': 0}\n",
      "Community: {'Expert candidate': 2.0, 'Intellectual candidate': 32.7, 'Uneducated candidate': 65.4}\n",
      "\n",
      "GroupHug Winner: Intellectual candidate\n",
      "GroupHug Scores: {'Expert candidate': 40.5, 'Intellectual candidate': 42.0, 'Uneducated candidate': 17.4}\n",
      "\n",
      "Popularity contest winner: Uneducated candidate\n",
      "Popularity contest scores: {'Expert candidate': 3.0, 'Intellectual candidate': 50.0, 'Uneducated candidate': 100.0}\n"
     ]
    }
   ],
   "source": [
    "perform_comparison(GH_custom_a, 3, 50, 0, 100)"
   ]
  },
  {
   "cell_type": "markdown",
   "metadata": {},
   "source": [
    "Of course, we can move the threshold by changing the group weights slightly more in favor of the experts..."
   ]
  },
  {
   "cell_type": "code",
   "execution_count": 9,
   "metadata": {},
   "outputs": [
    {
     "name": "stdout",
     "output_type": "stream",
     "text": [
      "VOTERS: 3 experts, 50 intellectuals, 0 participants, 100 uneducated.\n",
      "\n",
      "Experts: {'Expert candidate': 100.0, 'Intellectual candidate': 0.0, 'Uneducated candidate': 0.0}\n",
      "Intellectuals: {'Expert candidate': 0.0, 'Intellectual candidate': 100.0, 'Uneducated candidate': 0.0}\n",
      "Participants: {'Expert candidate': 0, 'Intellectual candidate': 0, 'Uneducated candidate': 0}\n",
      "Community: {'Expert candidate': 2.0, 'Intellectual candidate': 32.7, 'Uneducated candidate': 65.4}\n",
      "\n",
      "GroupHug Winner: Expert candidate\n",
      "GroupHug Scores: {'Expert candidate': 42.6, 'Intellectual candidate': 40.2, 'Uneducated candidate': 17.2}\n",
      "\n",
      "Popularity contest winner: Uneducated candidate\n",
      "Popularity contest scores: {'Expert candidate': 3.0, 'Intellectual candidate': 50.0, 'Uneducated candidate': 100.0}\n"
     ]
    }
   ],
   "source": [
    "GH_custom_b = GroupHug(experts_group_weight = 32,\n",
    "                     intellectuals_group_weight = 24,\n",
    "                     participants_group_weight = 24,\n",
    "                     community_group_weight = 20)\n",
    "\n",
    "perform_comparison(GH_custom_b, 3, 50, 0, 100)"
   ]
  },
  {
   "cell_type": "markdown",
   "metadata": {},
   "source": [
    "Now, it takes even more student votes to override the experts' opinion:"
   ]
  },
  {
   "cell_type": "code",
   "execution_count": 10,
   "metadata": {},
   "outputs": [
    {
     "name": "stdout",
     "output_type": "stream",
     "text": [
      "VOTERS: 3 experts, 75 intellectuals, 0 participants, 100 uneducated.\n",
      "\n",
      "Experts: {'Expert candidate': 100.0, 'Intellectual candidate': 0.0, 'Uneducated candidate': 0.0}\n",
      "Intellectuals: {'Expert candidate': 0.0, 'Intellectual candidate': 100.0, 'Uneducated candidate': 0.0}\n",
      "Participants: {'Expert candidate': 0, 'Intellectual candidate': 0, 'Uneducated candidate': 0}\n",
      "Community: {'Expert candidate': 1.7, 'Intellectual candidate': 42.1, 'Uneducated candidate': 56.2}\n",
      "\n",
      "GroupHug Winner: Intellectual candidate\n",
      "GroupHug Scores: {'Expert candidate': 42.6, 'Intellectual candidate': 42.7, 'Uneducated candidate': 14.8}\n",
      "\n",
      "Popularity contest winner: Uneducated candidate\n",
      "Popularity contest scores: {'Expert candidate': 3.0, 'Intellectual candidate': 75.0, 'Uneducated candidate': 100.0}\n"
     ]
    }
   ],
   "source": [
    "perform_comparison(GH_custom_b, 3, 75, 0, 100)"
   ]
  }
 ],
 "metadata": {
  "kernelspec": {
   "display_name": "Python 3",
   "language": "python",
   "name": "python3"
  },
  "language_info": {
   "codemirror_mode": {
    "name": "ipython",
    "version": 3
   },
   "file_extension": ".py",
   "mimetype": "text/x-python",
   "name": "python",
   "nbconvert_exporter": "python",
   "pygments_lexer": "ipython3",
   "version": "3.11.0rc1"
  }
 },
 "nbformat": 4,
 "nbformat_minor": 2
}
