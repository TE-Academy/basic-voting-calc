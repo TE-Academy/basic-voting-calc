{
 "cells": [
  {
   "cell_type": "markdown",
   "metadata": {},
   "source": [
    "# Simulations to test GroupHug vs. 'one person, one vote' in case of maximum disagreement between voter groups."
   ]
  },
  {
   "cell_type": "markdown",
   "metadata": {},
   "source": [
    "The perform_comparison function below configures a GroupHug mechanism with a specified number of four different voter types - experts, intellectuals, participants and uneducated community members. In this simulation, each group is in favor of a different candidate. The experts prefer the expert candidate, the intellectuals prefer the intellectual candidate, ...and so on.\n",
    "\n",
    "Furthermore, a SingleChoiceWeightedPlurality mechanism is set up with the same total number of voters - and uniform weights.\n",
    "\n",
    "Each mechanism calculates a set of scores and announces a winner."
   ]
  },
  {
   "cell_type": "code",
   "execution_count": 81,
   "metadata": {},
   "outputs": [],
   "source": [
    "import sys\n",
    "sys.path.append(\"..\")\n",
    "\n",
    "from mechanisms.group_hug_mechanism import GroupHug\n",
    "from mechanisms.single_choice_weighted_plurality import SingleChoiceWeightedPlurality\n",
    "\n",
    "def str_dict(d):\n",
    "    return str(dict(sorted(d.items())))\n",
    "\n",
    "def perform_comparison(gh, ecount, icount, pcount, ucount):\n",
    "\n",
    "    expert_type = {\"FELLOWSHIP_COMM\": True}\n",
    "    intellectual_type = {\"FUND_MOD_1\": True}\n",
    "    participant_type = {\"LIVE_TRACK_1\": True}\n",
    "    uneducated_type = {}\n",
    "\n",
    "    voters = {}\n",
    "    voters_choices = {}\n",
    "\n",
    "    for i in range(ecount):\n",
    "        voters[\"e\" + str(i)] = expert_type\n",
    "        voters_choices[\"e\" + str(i)] = \"Expert candidate\"\n",
    "\n",
    "    for i in range(icount):\n",
    "        voters[\"i\" + str(i)] = intellectual_type\n",
    "        voters_choices[\"i\" + str(i)] = \"Intellectual candidate\"\n",
    "\n",
    "    for i in range(pcount):\n",
    "        voters[\"p\" + str(i)] = participant_type\n",
    "        voters_choices[\"p\" + str(i)] = \"Participant candidate\"\n",
    "        \n",
    "    for i in range(ucount):\n",
    "        voters[\"u\" + str(i)] = uneducated_type\n",
    "        voters_choices[\"u\" + str(i)] = \"Uneducated candidate\"\n",
    "\n",
    "    uniform_voters = {id: {\"weight\": 1.0} for id in voters.keys()}\n",
    "\n",
    "    print(\"VOTERS: \" + str(ecount) + \" experts, \" + str(icount) + \" intellectuals, \" + str(pcount) + \" participants, \" + str(ucount) + \" uneducated.\")\n",
    "\n",
    "    w_gh, r_gh = gh.calculate(voters, voters_choices)\n",
    "\n",
    "    print(\"\\nGroupHug Winner: \" + str(w_gh))\n",
    "    print(\"GroupHug Scores: \" + str_dict(r_gh) + \"\\n\")\n",
    "\n",
    "    SCWP = SingleChoiceWeightedPlurality()\n",
    "    w_scwp, r_scwp = SCWP.calculate(uniform_voters, voters_choices)\n",
    "\n",
    "    print(\"Popularity contest winner: \" + str(w_scwp))\n",
    "    print(\"Popularity contest scores: \" + str_dict(r_scwp))"
   ]
  },
  {
   "cell_type": "markdown",
   "metadata": {},
   "source": [
    "Let's first use a default GroupHug mechanism (all voter groups have equal weight, default NFT weights are used.)"
   ]
  },
  {
   "cell_type": "code",
   "execution_count": 82,
   "metadata": {},
   "outputs": [],
   "source": [
    "GH_def = GroupHug()"
   ]
  },
  {
   "cell_type": "markdown",
   "metadata": {},
   "source": [
    "In our first example, below, only experts and uneducated community members participate (no intellectuals or participants.)\n",
    "\n",
    "We see that a small expert group override a very large group of uneducated voters because the default GroupHug caps the influence of any of the N participating voter groups at 1/N, and the experts also influence the community vote:"
   ]
  },
  {
   "cell_type": "code",
   "execution_count": 83,
   "metadata": {},
   "outputs": [
    {
     "name": "stdout",
     "output_type": "stream",
     "text": [
      "VOTERS: 1 experts, 0 intellectuals, 0 participants, 500 uneducated.\n",
      "\n",
      "Experts: {\"Experts' choice\": 100.0, 'Uneducated choice': 0.0}\n",
      "Intellectuals: {\"Experts' choice\": 0, 'Uneducated choice': 0}\n",
      "Participants: {\"Experts' choice\": 0, 'Uneducated choice': 0}\n",
      "Community: {\"Experts' choice\": 0.2, 'Uneducated choice': 99.8}\n",
      "\n",
      "GroupHug Winner: Experts' choice\n",
      "GroupHug Scores: {\"Experts' choice\": 50.1, 'Uneducated choice': 49.9}\n",
      "\n",
      "Popularity contest winner: Uneducated choice\n",
      "Popularity contest scores: {\"Experts' choice\": 1.0, 'Uneducated choice': 500.0}\n"
     ]
    }
   ],
   "source": [
    "perform_comparison(GH_def, 1, 0, 0, 500)"
   ]
  },
  {
   "cell_type": "markdown",
   "metadata": {},
   "source": [
    "If, at this point, a single 'intellectual' enters a vote (disagreeing with both experts and uneducated community members), the expert and the intellectual have equal weight. \n",
    "\n",
    "NB: WINNER UNDEFINED, 'RANDOM' BEHAVIOR!"
   ]
  },
  {
   "cell_type": "code",
   "execution_count": 84,
   "metadata": {},
   "outputs": [
    {
     "name": "stdout",
     "output_type": "stream",
     "text": [
      "VOTERS: 1 experts, 1 intellectuals, 0 participants, 100 uneducated.\n",
      "\n",
      "Experts: {\"Experts' choice\": 100.0, \"Intellectuals' choice\": 0.0, 'Uneducated choice': 0.0}\n",
      "Intellectuals: {\"Experts' choice\": 0.0, \"Intellectuals' choice\": 100.0, 'Uneducated choice': 0.0}\n",
      "Participants: {\"Experts' choice\": 0, \"Intellectuals' choice\": 0, 'Uneducated choice': 0}\n",
      "Community: {\"Experts' choice\": 1.0, \"Intellectuals' choice\": 1.0, 'Uneducated choice': 98.0}\n",
      "\n",
      "GroupHug Winner: Experts' choice\n",
      "GroupHug Scores: {\"Experts' choice\": 33.7, \"Intellectuals' choice\": 33.7, 'Uneducated choice': 32.7}\n",
      "\n",
      "Popularity contest winner: Uneducated choice\n",
      "Popularity contest scores: {\"Experts' choice\": 1.0, \"Intellectuals' choice\": 1.0, 'Uneducated choice': 100.0}\n"
     ]
    }
   ],
   "source": [
    "perform_comparison(GH_def, 1, 1, 0, 100)"
   ]
  },
  {
   "cell_type": "markdown",
   "metadata": {},
   "source": [
    "The undefined behavior in case of equality of points is a problem that needs to be solved!\n",
    "\n",
    "But there is another problem: In the default GroupHug mechanism, 1 expert has the same power as 1 student. We can change this by using custom group weights..."
   ]
  },
  {
   "cell_type": "code",
   "execution_count": 85,
   "metadata": {},
   "outputs": [],
   "source": [
    "GH_custom_a = GroupHug(experts_group_weight = 30,\n",
    "                     intellectuals_group_weight = 25,\n",
    "                     participants_group_weight = 25,\n",
    "                     community_group_weight = 20)\n"
   ]
  },
  {
   "cell_type": "markdown",
   "metadata": {},
   "source": [
    "With the custom GroupHug mechanism defined above, 1 expert outweights 1 intellectual:"
   ]
  },
  {
   "cell_type": "code",
   "execution_count": 86,
   "metadata": {},
   "outputs": [
    {
     "name": "stdout",
     "output_type": "stream",
     "text": [
      "VOTERS: 1 experts, 1 intellectuals, 0 participants, 100 uneducated.\n",
      "\n",
      "Experts: {\"Experts' choice\": 100.0, \"Intellectuals' choice\": 0.0, 'Uneducated choice': 0.0}\n",
      "Intellectuals: {\"Experts' choice\": 0.0, \"Intellectuals' choice\": 100.0, 'Uneducated choice': 0.0}\n",
      "Participants: {\"Experts' choice\": 0, \"Intellectuals' choice\": 0, 'Uneducated choice': 0}\n",
      "Community: {\"Experts' choice\": 1.0, \"Intellectuals' choice\": 1.0, 'Uneducated choice': 98.0}\n",
      "\n",
      "GroupHug Winner: Experts' choice\n",
      "GroupHug Scores: {\"Experts' choice\": 40.3, \"Intellectuals' choice\": 33.6, 'Uneducated choice': 26.1}\n",
      "\n",
      "Popularity contest winner: Uneducated choice\n",
      "Popularity contest scores: {\"Experts' choice\": 1.0, \"Intellectuals' choice\": 1.0, 'Uneducated choice': 100.0}\n"
     ]
    }
   ],
   "source": [
    "perform_comparison(GH_custom_a, 1, 1, 0, 100)"
   ]
  },
  {
   "cell_type": "markdown",
   "metadata": {},
   "source": [
    "In fact, 3 experts outweight 30 students and 100 uneducated:"
   ]
  },
  {
   "cell_type": "code",
   "execution_count": 87,
   "metadata": {},
   "outputs": [
    {
     "name": "stdout",
     "output_type": "stream",
     "text": [
      "VOTERS: 3 experts, 30 intellectuals, 0 participants, 100 uneducated.\n",
      "\n",
      "Experts: {\"Experts' choice\": 100.0, \"Intellectuals' choice\": 0.0, 'Uneducated choice': 0.0}\n",
      "Intellectuals: {\"Experts' choice\": 0.0, \"Intellectuals' choice\": 100.0, 'Uneducated choice': 0.0}\n",
      "Participants: {\"Experts' choice\": 0, \"Intellectuals' choice\": 0, 'Uneducated choice': 0}\n",
      "Community: {\"Experts' choice\": 2.3, \"Intellectuals' choice\": 22.6, 'Uneducated choice': 75.2}\n",
      "\n",
      "GroupHug Winner: Experts' choice\n",
      "GroupHug Scores: {\"Experts' choice\": 40.6, \"Intellectuals' choice\": 39.3, 'Uneducated choice': 20.0}\n",
      "\n",
      "Popularity contest winner: Uneducated choice\n",
      "Popularity contest scores: {\"Experts' choice\": 3.0, \"Intellectuals' choice\": 30.0, 'Uneducated choice': 100.0}\n"
     ]
    }
   ],
   "source": [
    "perform_comparison(GH_custom_a, 3, 30, 0, 100)"
   ]
  },
  {
   "cell_type": "markdown",
   "metadata": {},
   "source": [
    "But there is still a limit to the experts' power. \n",
    "\n",
    "For example, 50 students (intellectuals) outweigh 3 experts:"
   ]
  },
  {
   "cell_type": "code",
   "execution_count": 88,
   "metadata": {},
   "outputs": [
    {
     "name": "stdout",
     "output_type": "stream",
     "text": [
      "VOTERS: 3 experts, 50 intellectuals, 0 participants, 100 uneducated.\n",
      "\n",
      "Experts: {\"Experts' choice\": 100.0, \"Intellectuals' choice\": 0.0, 'Uneducated choice': 0.0}\n",
      "Intellectuals: {\"Experts' choice\": 0.0, \"Intellectuals' choice\": 100.0, 'Uneducated choice': 0.0}\n",
      "Participants: {\"Experts' choice\": 0, \"Intellectuals' choice\": 0, 'Uneducated choice': 0}\n",
      "Community: {\"Experts' choice\": 2.0, \"Intellectuals' choice\": 32.7, 'Uneducated choice': 65.4}\n",
      "\n",
      "GroupHug Winner: Intellectuals' choice\n",
      "GroupHug Scores: {\"Experts' choice\": 40.5, \"Intellectuals' choice\": 42.0, 'Uneducated choice': 17.4}\n",
      "\n",
      "Popularity contest winner: Uneducated choice\n",
      "Popularity contest scores: {\"Experts' choice\": 3.0, \"Intellectuals' choice\": 50.0, 'Uneducated choice': 100.0}\n"
     ]
    }
   ],
   "source": [
    "perform_comparison(GH_custom_a, 3, 50, 0, 100)"
   ]
  },
  {
   "cell_type": "markdown",
   "metadata": {},
   "source": [
    "Of course, we can move the threshold by changing the group weights slightly more in favor of the experts..."
   ]
  },
  {
   "cell_type": "code",
   "execution_count": 89,
   "metadata": {},
   "outputs": [
    {
     "name": "stdout",
     "output_type": "stream",
     "text": [
      "VOTERS: 3 experts, 50 intellectuals, 0 participants, 100 uneducated.\n",
      "\n",
      "Experts: {\"Experts' choice\": 100.0, \"Intellectuals' choice\": 0.0, 'Uneducated choice': 0.0}\n",
      "Intellectuals: {\"Experts' choice\": 0.0, \"Intellectuals' choice\": 100.0, 'Uneducated choice': 0.0}\n",
      "Participants: {\"Experts' choice\": 0, \"Intellectuals' choice\": 0, 'Uneducated choice': 0}\n",
      "Community: {\"Experts' choice\": 2.0, \"Intellectuals' choice\": 32.7, 'Uneducated choice': 65.4}\n",
      "\n",
      "GroupHug Winner: Experts' choice\n",
      "GroupHug Scores: {\"Experts' choice\": 42.6, \"Intellectuals' choice\": 40.2, 'Uneducated choice': 17.2}\n",
      "\n",
      "Popularity contest winner: Uneducated choice\n",
      "Popularity contest scores: {\"Experts' choice\": 3.0, \"Intellectuals' choice\": 50.0, 'Uneducated choice': 100.0}\n"
     ]
    }
   ],
   "source": [
    "GH_custom_b = GroupHug(experts_group_weight = 32,\n",
    "                     intellectuals_group_weight = 24,\n",
    "                     participants_group_weight = 24,\n",
    "                     community_group_weight = 20)\n",
    "\n",
    "perform_comparison(GH_custom_b, 3, 50, 0, 100)"
   ]
  },
  {
   "cell_type": "markdown",
   "metadata": {},
   "source": [
    "Now, it takes even more student votes to override the experts' opinion:"
   ]
  },
  {
   "cell_type": "code",
   "execution_count": 90,
   "metadata": {},
   "outputs": [
    {
     "name": "stdout",
     "output_type": "stream",
     "text": [
      "VOTERS: 3 experts, 75 intellectuals, 0 participants, 100 uneducated.\n",
      "\n",
      "Experts: {\"Experts' choice\": 100.0, \"Intellectuals' choice\": 0.0, 'Uneducated choice': 0.0}\n",
      "Intellectuals: {\"Experts' choice\": 0.0, \"Intellectuals' choice\": 100.0, 'Uneducated choice': 0.0}\n",
      "Participants: {\"Experts' choice\": 0, \"Intellectuals' choice\": 0, 'Uneducated choice': 0}\n",
      "Community: {\"Experts' choice\": 1.7, \"Intellectuals' choice\": 42.1, 'Uneducated choice': 56.2}\n",
      "\n",
      "GroupHug Winner: Intellectuals' choice\n",
      "GroupHug Scores: {\"Experts' choice\": 42.6, \"Intellectuals' choice\": 42.7, 'Uneducated choice': 14.8}\n",
      "\n",
      "Popularity contest winner: Uneducated choice\n",
      "Popularity contest scores: {\"Experts' choice\": 3.0, \"Intellectuals' choice\": 75.0, 'Uneducated choice': 100.0}\n"
     ]
    }
   ],
   "source": [
    "perform_comparison(GH_custom_b, 3, 75, 0, 100)"
   ]
  }
 ],
 "metadata": {
  "kernelspec": {
   "display_name": "Python 3",
   "language": "python",
   "name": "python3"
  },
  "language_info": {
   "codemirror_mode": {
    "name": "ipython",
    "version": 3
   },
   "file_extension": ".py",
   "mimetype": "text/x-python",
   "name": "python",
   "nbconvert_exporter": "python",
   "pygments_lexer": "ipython3",
   "version": "3.11.0rc1"
  }
 },
 "nbformat": 4,
 "nbformat_minor": 2
}
