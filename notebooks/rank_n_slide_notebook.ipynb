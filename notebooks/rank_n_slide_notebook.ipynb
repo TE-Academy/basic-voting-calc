{
 "cells": [
  {
   "cell_type": "markdown",
   "metadata": {},
   "source": [
    "# Voting Mechanism Simulation Examples"
   ]
  },
  {
   "cell_type": "markdown",
   "metadata": {},
   "source": [
    "Our goal here is to show basic use cases for the code, and do basic proof-of-concept on possible future extensions.  "
   ]
  },
  {
   "cell_type": "code",
   "execution_count": 1,
   "metadata": {},
   "outputs": [],
   "source": [
    "# Standard Imports\n",
    "import numpy as np\n",
    "import pandas as pd\n",
    "import os\n",
    "from random import choice\n",
    "from typing import Dict\n",
    "\n",
    "import sys\n",
    "sys.path.append('..')  # Add this line to include the directory above\n",
    "\n",
    "# Custom imports\n",
    "from custom_types import UserNFTs\n",
    "from mechanisms.single_choice_weighted_plurality import SingleChoiceWeightedPlurality\n",
    "\n",
    "from mechanisms.rank_n_slide_mechanism import RankAndSlide"
   ]
  },
  {
   "cell_type": "markdown",
   "metadata": {},
   "source": [
    "## Inputting Sample Data as a Dictionary"
   ]
  },
  {
   "cell_type": "code",
   "execution_count": 2,
   "metadata": {},
   "outputs": [],
   "source": [
    "sample_voters = {\"voter_1\":  {\"FUND_MOD4\": 1, \"BARCAMP_PARIS_23\": 1}, \n",
    "                 \"voter_2\":  {\"BARCAMP_PARIS_23\": 1},\n",
    "                 \"voter_3\":  {\"LIVE_TRACK_4\": 1},\n",
    "                 \"voter_4\":  {\"NonExistingNFT\": 1}\n",
    "                 }"
   ]
  },
  {
   "cell_type": "code",
   "execution_count": 3,
   "metadata": {},
   "outputs": [],
   "source": [
    "sample_choices = {\"voter_1\": {\"candidate_A\":0.9, \"candidate_B\":0.1},\n",
    "                  \"voter_2\": {\"candidate_A\": 0.2, \"candidate_B\": 0.8},\n",
    "                  \"voter_3\": {\"candidate_B\":2, \"candidate_A\":4},    # equivalent to 0.333 & 0.666\n",
    "                  \"voter_4\": {\"candidate_B\":1} # Not every candidate needs to be voted for, they automatically have '0'\n",
    "                  }"
   ]
  },
  {
   "cell_type": "code",
   "execution_count": 4,
   "metadata": {},
   "outputs": [],
   "source": [
    "import mechanisms.group_hug_mechanism as GH"
   ]
  },
  {
   "cell_type": "code",
   "execution_count": 5,
   "metadata": {},
   "outputs": [],
   "source": [
    "def convert_dict_to_single_choice(voter_choices: dict) -> str:\n",
    "    pass"
   ]
  },
  {
   "cell_type": "code",
   "execution_count": null,
   "metadata": {},
   "outputs": [],
   "source": []
  },
  {
   "cell_type": "markdown",
   "metadata": {},
   "source": [
    "## Calculating Using the Weighted Plurality Method"
   ]
  },
  {
   "cell_type": "code",
   "execution_count": 6,
   "metadata": {},
   "outputs": [],
   "source": [
    "method = RankAndSlide()"
   ]
  },
  {
   "cell_type": "code",
   "execution_count": 7,
   "metadata": {},
   "outputs": [],
   "source": [
    "# method.normalize_proportions(sample_choices)"
   ]
  },
  {
   "cell_type": "code",
   "execution_count": 8,
   "metadata": {},
   "outputs": [],
   "source": [
    "winner, candidate_scores = method.calculate(sample_voters,\n",
    "                                               sample_choices)"
   ]
  },
  {
   "cell_type": "code",
   "execution_count": 11,
   "metadata": {},
   "outputs": [
    {
     "data": {
      "text/plain": [
       "'candidate_A'"
      ]
     },
     "execution_count": 11,
     "metadata": {},
     "output_type": "execute_result"
    }
   ],
   "source": [
    "winner"
   ]
  },
  {
   "cell_type": "code",
   "execution_count": 12,
   "metadata": {},
   "outputs": [
    {
     "data": {
      "text/plain": [
       "{'candidate_A': 5.566666666666667, 'candidate_B': 3.4333333333333336}"
      ]
     },
     "execution_count": 12,
     "metadata": {},
     "output_type": "execute_result"
    }
   ],
   "source": [
    "candidate_scores"
   ]
  },
  {
   "cell_type": "code",
   "execution_count": 9,
   "metadata": {},
   "outputs": [
    {
     "name": "stdout",
     "output_type": "stream",
     "text": [
      "The winner is candidate_A.\n"
     ]
    }
   ],
   "source": [
    "print(f\"The winner is {winner}.\")"
   ]
  },
  {
   "cell_type": "code",
   "execution_count": 10,
   "metadata": {},
   "outputs": [
    {
     "name": "stdout",
     "output_type": "stream",
     "text": [
      "Results can be seen here: {'candidate_A': 5.566666666666667, 'candidate_B': 3.4333333333333336}.\n"
     ]
    }
   ],
   "source": [
    "print(f\"Results can be seen here: {candidate_scores}.\")"
   ]
  }
 ],
 "metadata": {
  "kernelspec": {
   "display_name": "Python 3",
   "language": "python",
   "name": "python3"
  },
  "language_info": {
   "codemirror_mode": {
    "name": "ipython",
    "version": 3
   },
   "file_extension": ".py",
   "mimetype": "text/x-python",
   "name": "python",
   "nbconvert_exporter": "python",
   "pygments_lexer": "ipython3",
   "version": "3.11.6"
  }
 },
 "nbformat": 4,
 "nbformat_minor": 2
}
